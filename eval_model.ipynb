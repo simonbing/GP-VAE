{
 "cells": [
  {
   "cell_type": "code",
   "execution_count": 11,
   "metadata": {
    "ExecuteTime": {
     "end_time": "2020-04-17T08:48:01.423109Z",
     "start_time": "2020-04-17T08:48:00.649825Z"
    }
   },
   "outputs": [],
   "source": [
    "import numpy as np\n",
    "import os\n",
    "import matplotlib.pyplot as plt"
   ]
  },
  {
   "cell_type": "code",
   "execution_count": 56,
   "metadata": {},
   "outputs": [],
   "source": [
    "z = np.load('data/dsprites/factors_gp_full_init_5000.npy')\n",
    "z_orig = np.load('data/dsprites/factors_5000.npy')"
   ]
  },
  {
   "cell_type": "code",
   "execution_count": 57,
   "metadata": {},
   "outputs": [
    {
     "data": {
      "text/plain": [
       "(5000, 10, 6)"
      ]
     },
     "execution_count": 57,
     "metadata": {},
     "output_type": "execute_result"
    }
   ],
   "source": [
    "z.shape"
   ]
  },
  {
   "cell_type": "code",
   "execution_count": 60,
   "metadata": {},
   "outputs": [
    {
     "data": {
      "text/plain": [
       "(5000, 6, 10)"
      ]
     },
     "execution_count": 60,
     "metadata": {},
     "output_type": "execute_result"
    }
   ],
   "source": [
    "z_correct = np.transpose(z, (0,2,1))\n",
    "np.save('data/dsprites/factors_gp_full_init_5000.npy',z_correct)\n",
    "z_correct.shape"
   ]
  },
  {
   "cell_type": "code",
   "execution_count": 59,
   "metadata": {},
   "outputs": [
    {
     "name": "stdout",
     "output_type": "stream",
     "text": [
      "[[ 0.  1.  5. 10. 19. 16.]\n",
      " [ 0.  1.  5. 12. 20. 15.]\n",
      " [ 0.  1.  5. 14. 19. 15.]\n",
      " [ 0.  1.  5. 16. 18. 14.]\n",
      " [ 0.  1.  5. 18. 16. 13.]\n",
      " [ 0.  1.  5. 19. 14. 13.]\n",
      " [ 0.  1.  5. 21. 14. 13.]\n",
      " [ 0.  1.  5. 22. 14. 14.]\n",
      " [ 0.  1.  5. 23. 15. 15.]\n",
      " [ 0.  1.  5. 24. 16. 16.]]\n",
      "[[ 0.  0.  0.  0.  0.  0.  0.  0.  0.  0.]\n",
      " [ 1.  1.  1.  1.  1.  1.  1.  1.  1.  1.]\n",
      " [ 5.  5.  5.  5.  5.  5.  5.  5.  5.  5.]\n",
      " [10. 12. 14. 16. 18. 19. 21. 22. 23. 24.]\n",
      " [19. 20. 19. 18. 16. 14. 14. 14. 15. 16.]\n",
      " [16. 15. 15. 14. 13. 13. 13. 14. 15. 16.]]\n"
     ]
    }
   ],
   "source": [
    "i = 47\n",
    "print(z[i,:,:])\n",
    "print(z_correct[i,:,:])"
   ]
  },
  {
   "cell_type": "markdown",
   "metadata": {},
   "source": [
    "## Baseline quickcheck"
   ]
  },
  {
   "cell_type": "code",
   "execution_count": 6,
   "metadata": {},
   "outputs": [],
   "source": [
    "beta_dci_path = 'factorvae_64_dci_aggr.npy'\n",
    "beta_dci = np.load(beta_dci_path)"
   ]
  },
  {
   "cell_type": "code",
   "execution_count": 7,
   "metadata": {},
   "outputs": [
    {
     "name": "stdout",
     "output_type": "stream",
     "text": [
      "D mean: 0.10969459265470505\n",
      "C mean: 0.10013113915920258\n",
      "I mean: 0.23790740966796875\n"
     ]
    }
   ],
   "source": [
    "beta_dci.shape\n",
    "beta_D = beta_dci[0,:]\n",
    "beta_C = beta_dci[1,:]\n",
    "beta_I = beta_dci[2,:]\n",
    "\n",
    "print('D mean: {}'.format(np.mean(beta_D)))\n",
    "print('C mean: {}'.format(np.mean(beta_C)))\n",
    "print('I mean: {}'.format(np.mean(beta_I)))"
   ]
  },
  {
   "cell_type": "code",
   "execution_count": 13,
   "metadata": {},
   "outputs": [
    {
     "data": {
      "text/plain": [
       "{'bodies': [<matplotlib.collections.PolyCollection at 0x2aea6d98eed0>,\n",
       "  <matplotlib.collections.PolyCollection at 0x2aea6d99c1d0>,\n",
       "  <matplotlib.collections.PolyCollection at 0x2aea6d99c510>],\n",
       " 'cmaxes': <matplotlib.collections.LineCollection at 0x2aea6d98ed90>,\n",
       " 'cmins': <matplotlib.collections.LineCollection at 0x2aea6d99c550>,\n",
       " 'cbars': <matplotlib.collections.LineCollection at 0x2aea6d99c210>}"
      ]
     },
     "execution_count": 13,
     "metadata": {},
     "output_type": "execute_result"
    },
    {
     "data": {
      "image/png": "[encoded data removed]",
      "text/plain": [
       "<Figure size 432x288 with 1 Axes>"
      ]
     },
     "metadata": {
      "needs_background": "light"
     },
     "output_type": "display_data"
    }
   ],
   "source": [
    "plt.violinplot(beta_dci.transpose())"
   ]
  },
  {
   "cell_type": "markdown",
   "metadata": {},
   "source": [
    "## Aggregate DCI check"
   ]
  },
  {
   "cell_type": "code",
   "execution_count": 2,
   "metadata": {
    "ExecuteTime": {
     "end_time": "2020-04-17T08:48:02.659748Z",
     "start_time": "2020-04-17T08:48:02.650820Z"
    }
   },
   "outputs": [],
   "source": [
    "dci_test = np.load('gpvae_tensor2_dci_aggr.npy')"
   ]
  },
  {
   "cell_type": "code",
   "execution_count": 3,
   "metadata": {
    "ExecuteTime": {
     "end_time": "2020-04-17T08:48:04.276185Z",
     "start_time": "2020-04-17T08:48:04.261571Z"
    }
   },
   "outputs": [
    {
     "name": "stdout",
     "output_type": "stream",
     "text": [
      "D mean: [0.05645033 0.13795963 0.10855176 0.0956778  0.13954079]\n",
      "D var: [0.00115435 0.00583437 0.00543033 0.00447321 0.00522757]\n",
      "C mean: [0.08907302 0.21229026 0.16958536 0.1381446  0.1435526 ]\n",
      "C var: [0.00226907 0.00801962 0.01275972 0.00845694 0.00524944]\n",
      "I mean: [0.3379333  0.39785    0.34866664 0.3188     0.35395   ]\n",
      "I var: [0.01742106 0.01132975 0.01874939 0.02441391 0.01875024]\n"
     ]
    }
   ],
   "source": [
    "dci_test.shape\n",
    "D = dci_test[0,:,:]\n",
    "C = dci_test[1,:,:]\n",
    "I = dci_test[2,:,:]\n",
    "\n",
    "D_mean = np.mean(D,0)\n",
    "D_var = np.var(D,0)\n",
    "C_mean = np.mean(C,0)\n",
    "C_var = np.var(C,0)\n",
    "I_mean = np.mean(I,0)\n",
    "I_var = np.var(I,0)\n",
    "\n",
    "print('D mean: {}'.format(D_mean))\n",
    "print('D var: {}'.format(D_var))\n",
    "print('C mean: {}'.format(C_mean))\n",
    "print('C var: {}'.format(C_var))\n",
    "print('I mean: {}'.format(I_mean))\n",
    "print('I var: {}'.format(I_var))"
   ]
  },
  {
   "cell_type": "code",
   "execution_count": 4,
   "metadata": {
    "ExecuteTime": {
     "end_time": "2020-04-17T08:48:33.798363Z",
     "start_time": "2020-04-17T08:48:33.790407Z"
    }
   },
   "outputs": [
    {
     "name": "stdout",
     "output_type": "stream",
     "text": [
      "[[2.22044605e-16 2.22044605e-16 2.22044605e-16 2.22044605e-16\n",
      "  2.22044605e-16]\n",
      " [9.43224654e-02 1.11676179e-01 2.08109334e-01 1.96708098e-01\n",
      "  1.81446522e-01]\n",
      " [5.69555983e-02 1.47955582e-01 9.90143493e-02 1.09747000e-01\n",
      "  1.92949235e-01]\n",
      " [6.37337640e-02 1.97804198e-01 9.67755169e-02 1.34442896e-01\n",
      "  1.48665518e-01]\n",
      " [2.34202500e-02 2.29279429e-01 1.21212415e-01 1.24947906e-01\n",
      "  2.07177594e-01]\n",
      " [8.03133771e-02 9.93645340e-02 1.03320435e-01 1.30188748e-01\n",
      "  1.61524355e-01]\n",
      " [7.62808472e-02 6.88166097e-02 9.52169895e-02 2.22044605e-16\n",
      "  1.46839201e-01]\n",
      " [2.22044605e-16 7.60844201e-02 2.22044605e-16 2.22044605e-16\n",
      "  2.22044605e-16]\n",
      " [8.85143727e-02 2.52490699e-01 1.11109443e-01 1.51661992e-01\n",
      "  1.94353387e-01]\n",
      " [8.09625611e-02 1.96124554e-01 2.50759095e-01 1.09081335e-01\n",
      "  1.62452161e-01]]\n"
     ]
    }
   ],
   "source": [
    "print(\"{}\".format(D))"
   ]
  },
  {
   "cell_type": "code",
   "execution_count": 23,
   "metadata": {
    "ExecuteTime": {
     "end_time": "2020-04-16T16:33:26.518773Z",
     "start_time": "2020-04-16T16:33:26.511794Z"
    }
   },
   "outputs": [],
   "source": [
    "dim = 64\n",
    "n = 3\n",
    "single_dci_path = 'models/dsprites_dim_{}/200413_dsprites_{}_n{}/dci_6_{}_1000.npz'.format(dim,dim,n,dim)\n",
    "single_debug = np.load(single_dci_path)"
   ]
  },
  {
   "cell_type": "code",
   "execution_count": 24,
   "metadata": {
    "ExecuteTime": {
     "end_time": "2020-04-16T16:33:27.181317Z",
     "start_time": "2020-04-16T16:33:27.175490Z"
    }
   },
   "outputs": [
    {
     "name": "stdout",
     "output_type": "stream",
     "text": [
      "D: 2.220446049250313e-16\n",
      "C: -1.3322676295501878e-15\n",
      "I: 0.08033333333333333\n"
     ]
    }
   ],
   "source": [
    "print('D: {}'.format(single_debug['disentanglement']))\n",
    "print('C: {}'.format(single_debug['completeness']))\n",
    "print('I: {}'.format(single_debug['informativeness_test']))"
   ]
  },
  {
   "cell_type": "markdown",
   "metadata": {},
   "source": [
    "## Check from_tensor_slice single run\n"
   ]
  },
  {
   "cell_type": "code",
   "execution_count": 55,
   "metadata": {
    "ExecuteTime": {
     "end_time": "2020-04-16T17:26:59.010892Z",
     "start_time": "2020-04-16T17:26:58.993199Z"
    }
   },
   "outputs": [
    {
     "ename": "FileNotFoundError",
     "evalue": "[Errno 2] No such file or directory: 'models/dsprites_dim_32_debug2/200416_dsprites_32_debug_n1/dci_6_32_1000.npz'",
     "output_type": "error",
     "traceback": [
      "\u001b[0;31m---------------------------------------------------------------------------\u001b[0m",
      "\u001b[0;31mFileNotFoundError\u001b[0m                         Traceback (most recent call last)",
      "\u001b[0;32m<ipython-input-55-ebab3bfc92e9>\u001b[0m in \u001b[0;36m<module>\u001b[0;34m\u001b[0m\n\u001b[1;32m      1\u001b[0m \u001b[0mdim\u001b[0m \u001b[0;34m=\u001b[0m \u001b[0;36m32\u001b[0m\u001b[0;34m\u001b[0m\u001b[0;34m\u001b[0m\u001b[0m\n\u001b[1;32m      2\u001b[0m \u001b[0mdci_debug_path\u001b[0m \u001b[0;34m=\u001b[0m \u001b[0;34m'models/dsprites_dim_{}_debug2/200416_dsprites_{}_debug_n1/dci_6_{}_1000.npz'\u001b[0m\u001b[0;34m.\u001b[0m\u001b[0mformat\u001b[0m\u001b[0;34m(\u001b[0m\u001b[0mdim\u001b[0m\u001b[0;34m,\u001b[0m\u001b[0mdim\u001b[0m\u001b[0;34m,\u001b[0m\u001b[0mdim\u001b[0m\u001b[0;34m)\u001b[0m\u001b[0;34m\u001b[0m\u001b[0;34m\u001b[0m\u001b[0m\n\u001b[0;32m----> 3\u001b[0;31m \u001b[0mdci_debug\u001b[0m \u001b[0;34m=\u001b[0m \u001b[0mnp\u001b[0m\u001b[0;34m.\u001b[0m\u001b[0mload\u001b[0m\u001b[0;34m(\u001b[0m\u001b[0mdci_debug_path\u001b[0m\u001b[0;34m)\u001b[0m\u001b[0;34m\u001b[0m\u001b[0;34m\u001b[0m\u001b[0m\n\u001b[0m",
      "\u001b[0;32m~/software/anaconda/lib/python3.7/site-packages/numpy/lib/npyio.py\u001b[0m in \u001b[0;36mload\u001b[0;34m(file, mmap_mode, allow_pickle, fix_imports, encoding)\u001b[0m\n\u001b[1;32m    426\u001b[0m         \u001b[0mown_fid\u001b[0m \u001b[0;34m=\u001b[0m \u001b[0;32mFalse\u001b[0m\u001b[0;34m\u001b[0m\u001b[0;34m\u001b[0m\u001b[0m\n\u001b[1;32m    427\u001b[0m     \u001b[0;32melse\u001b[0m\u001b[0;34m:\u001b[0m\u001b[0;34m\u001b[0m\u001b[0;34m\u001b[0m\u001b[0m\n\u001b[0;32m--> 428\u001b[0;31m         \u001b[0mfid\u001b[0m \u001b[0;34m=\u001b[0m \u001b[0mopen\u001b[0m\u001b[0;34m(\u001b[0m\u001b[0mos_fspath\u001b[0m\u001b[0;34m(\u001b[0m\u001b[0mfile\u001b[0m\u001b[0;34m)\u001b[0m\u001b[0;34m,\u001b[0m \u001b[0;34m\"rb\"\u001b[0m\u001b[0;34m)\u001b[0m\u001b[0;34m\u001b[0m\u001b[0;34m\u001b[0m\u001b[0m\n\u001b[0m\u001b[1;32m    429\u001b[0m         \u001b[0mown_fid\u001b[0m \u001b[0;34m=\u001b[0m \u001b[0;32mTrue\u001b[0m\u001b[0;34m\u001b[0m\u001b[0;34m\u001b[0m\u001b[0m\n\u001b[1;32m    430\u001b[0m \u001b[0;34m\u001b[0m\u001b[0m\n",
      "\u001b[0;31mFileNotFoundError\u001b[0m: [Errno 2] No such file or directory: 'models/dsprites_dim_32_debug2/200416_dsprites_32_debug_n1/dci_6_32_1000.npz'"
     ]
    }
   ],
   "source": [
    "dim = 32\n",
    "dci_debug_path = 'models/dsprites_dim_{}_debug2/200416_dsprites_{}_debug_n1/dci_6_{}_1000.npz'.format(dim,dim,dim)\n",
    "dci_debug = np.load(dci_debug_path)"
   ]
  },
  {
   "cell_type": "code",
   "execution_count": 56,
   "metadata": {
    "ExecuteTime": {
     "end_time": "2020-04-16T17:26:59.389940Z",
     "start_time": "2020-04-16T17:26:59.383933Z"
    }
   },
   "outputs": [
    {
     "name": "stdout",
     "output_type": "stream",
     "text": [
      "D: 0.07861402197797596\n",
      "C: 0.16294512357704616\n",
      "I: 0.4146666666666667\n"
     ]
    }
   ],
   "source": [
    "dci_debug.files\n",
    "print('D: {}'.format(dci_debug['disentanglement']))\n",
    "print('C: {}'.format(dci_debug['completeness']))\n",
    "print('I: {}'.format(dci_debug['informativeness_test']))"
   ]
  },
  {
   "cell_type": "code",
   "execution_count": 25,
   "metadata": {
    "ExecuteTime": {
     "end_time": "2020-03-25T15:51:42.791341Z",
     "start_time": "2020-03-25T15:51:42.785635Z"
    }
   },
   "outputs": [],
   "source": [
    "def save_z_c(underlying_factors, latent_factors, filename):\n",
    "    \"\"\"\n",
    "    Save underlying factors and latent factors to calculate DCI score.\n",
    "    \"\"\"\n",
    "    z = underlying_factors\n",
    "    c = latent_factors\n",
    "    np.savez(filename, z=z, c=c)"
   ]
  },
  {
   "cell_type": "code",
   "execution_count": 9,
   "metadata": {
    "ExecuteTime": {
     "end_time": "2020-03-25T08:32:36.083604Z",
     "start_time": "2020-03-25T08:32:36.079357Z"
    }
   },
   "outputs": [],
   "source": [
    "model_path = 'models/200322_reproduce_dsprites_test1/'\n",
    "z_path = model_path + 'z_mean.npy'"
   ]
  },
  {
   "cell_type": "code",
   "execution_count": 18,
   "metadata": {
    "ExecuteTime": {
     "end_time": "2020-03-25T10:21:59.834430Z",
     "start_time": "2020-03-25T10:21:59.823790Z"
    }
   },
   "outputs": [],
   "source": [
    "factors_path = '/cluster/home/bings/GP-VAE/data/dsprites/factors_5000.npy'\n",
    "factors = np.load(factors_path)\n",
    "factors_test = factors[4000:]"
   ]
  },
  {
   "cell_type": "code",
   "execution_count": 11,
   "metadata": {
    "ExecuteTime": {
     "end_time": "2020-03-25T08:32:37.508794Z",
     "start_time": "2020-03-25T08:32:37.476465Z"
    }
   },
   "outputs": [],
   "source": [
    "z_mean = np.load(z_path)"
   ]
  },
  {
   "cell_type": "code",
   "execution_count": 23,
   "metadata": {
    "ExecuteTime": {
     "end_time": "2020-03-25T13:30:56.155337Z",
     "start_time": "2020-03-25T13:30:56.150725Z"
    }
   },
   "outputs": [
    {
     "name": "stdout",
     "output_type": "stream",
     "text": [
      "(1000, 256, 10)\n"
     ]
    }
   ],
   "source": [
    "print(z_mean.shape)"
   ]
  },
  {
   "cell_type": "code",
   "execution_count": 20,
   "metadata": {
    "ExecuteTime": {
     "end_time": "2020-03-25T10:22:07.132997Z",
     "start_time": "2020-03-25T10:22:07.128335Z"
    }
   },
   "outputs": [
    {
     "name": "stdout",
     "output_type": "stream",
     "text": [
      "(1000, 6, 10)\n"
     ]
    }
   ],
   "source": [
    " print(factors_test.shape)"
   ]
  },
  {
   "cell_type": "code",
   "execution_count": 27,
   "metadata": {
    "ExecuteTime": {
     "end_time": "2020-03-25T15:54:29.012926Z",
     "start_time": "2020-03-25T15:54:28.951878Z"
    }
   },
   "outputs": [],
   "source": [
    "save_z_c(factors_test, z_mean, 'z_c_5000')"
   ]
  },
  {
   "cell_type": "code",
   "execution_count": null,
   "metadata": {},
   "outputs": [],
   "source": []
  }
 ],
 "metadata": {
  "kernelspec": {
   "display_name": "Python 3",
   "language": "python",
   "name": "python3"
  },
  "language_info": {
   "codemirror_mode": {
    "name": "ipython",
    "version": 3
   },
   "file_extension": ".py",
   "mimetype": "text/x-python",
   "name": "python",
   "nbconvert_exporter": "python",
   "pygments_lexer": "ipython3",
   "version": "3.7.7"
  }
 },
 "nbformat": 4,
 "nbformat_minor": 4
}
